{
  "nbformat": 4,
  "nbformat_minor": 0,
  "metadata": {
    "colab": {
      "name": "LSTM_train.ipynb",
      "provenance": [],
      "collapsed_sections": []
    },
    "kernelspec": {
      "name": "python3",
      "display_name": "Python 3"
    },
    "accelerator": "GPU"
  },
  "cells": [
    {
      "cell_type": "code",
      "metadata": {
        "colab": {
          "base_uri": "https://localhost:8080/"
        },
        "id": "_wubXaAMw6Vj",
        "outputId": "20eaf5f8-6978-42d9-d6e6-0080d2af731f"
      },
      "source": [
        "!pip install gdown\r\n",
        "!pip install tensorflow.gpu"
      ],
      "execution_count": 1,
      "outputs": [
        {
          "output_type": "stream",
          "text": [
            "Requirement already satisfied: gdown in /usr/local/lib/python3.6/dist-packages (3.6.4)\n",
            "Requirement already satisfied: six in /usr/local/lib/python3.6/dist-packages (from gdown) (1.15.0)\n",
            "Requirement already satisfied: requests in /usr/local/lib/python3.6/dist-packages (from gdown) (2.23.0)\n",
            "Requirement already satisfied: tqdm in /usr/local/lib/python3.6/dist-packages (from gdown) (4.41.1)\n",
            "Requirement already satisfied: certifi>=2017.4.17 in /usr/local/lib/python3.6/dist-packages (from requests->gdown) (2020.12.5)\n",
            "Requirement already satisfied: idna<3,>=2.5 in /usr/local/lib/python3.6/dist-packages (from requests->gdown) (2.10)\n",
            "Requirement already satisfied: chardet<4,>=3.0.2 in /usr/local/lib/python3.6/dist-packages (from requests->gdown) (3.0.4)\n",
            "Requirement already satisfied: urllib3!=1.25.0,!=1.25.1,<1.26,>=1.21.1 in /usr/local/lib/python3.6/dist-packages (from requests->gdown) (1.24.3)\n",
            "Collecting tensorflow.gpu\n",
            "\u001b[?25l  Downloading https://files.pythonhosted.org/packages/f0/6d/67169e8d8146f377bbfd71d6c108a0fce218411371ce41d440a7a5f5fb20/tensorflow_gpu-2.4.1-cp36-cp36m-manylinux2010_x86_64.whl (394.3MB)\n",
            "\u001b[K     |████████████████████████████████| 394.3MB 44kB/s \n",
            "\u001b[?25hRequirement already satisfied: termcolor~=1.1.0 in /usr/local/lib/python3.6/dist-packages (from tensorflow.gpu) (1.1.0)\n",
            "Requirement already satisfied: h5py~=2.10.0 in /usr/local/lib/python3.6/dist-packages (from tensorflow.gpu) (2.10.0)\n",
            "Requirement already satisfied: typing-extensions~=3.7.4 in /usr/local/lib/python3.6/dist-packages (from tensorflow.gpu) (3.7.4.3)\n",
            "Requirement already satisfied: gast==0.3.3 in /usr/local/lib/python3.6/dist-packages (from tensorflow.gpu) (0.3.3)\n",
            "Requirement already satisfied: protobuf>=3.9.2 in /usr/local/lib/python3.6/dist-packages (from tensorflow.gpu) (3.12.4)\n",
            "Requirement already satisfied: tensorboard~=2.4 in /usr/local/lib/python3.6/dist-packages (from tensorflow.gpu) (2.4.1)\n",
            "Requirement already satisfied: wheel~=0.35 in /usr/local/lib/python3.6/dist-packages (from tensorflow.gpu) (0.36.2)\n",
            "Requirement already satisfied: tensorflow-estimator<2.5.0,>=2.4.0 in /usr/local/lib/python3.6/dist-packages (from tensorflow.gpu) (2.4.0)\n",
            "Requirement already satisfied: numpy~=1.19.2 in /usr/local/lib/python3.6/dist-packages (from tensorflow.gpu) (1.19.5)\n",
            "Requirement already satisfied: astunparse~=1.6.3 in /usr/local/lib/python3.6/dist-packages (from tensorflow.gpu) (1.6.3)\n",
            "Requirement already satisfied: six~=1.15.0 in /usr/local/lib/python3.6/dist-packages (from tensorflow.gpu) (1.15.0)\n",
            "Requirement already satisfied: grpcio~=1.32.0 in /usr/local/lib/python3.6/dist-packages (from tensorflow.gpu) (1.32.0)\n",
            "Requirement already satisfied: keras-preprocessing~=1.1.2 in /usr/local/lib/python3.6/dist-packages (from tensorflow.gpu) (1.1.2)\n",
            "Requirement already satisfied: absl-py~=0.10 in /usr/local/lib/python3.6/dist-packages (from tensorflow.gpu) (0.10.0)\n",
            "Requirement already satisfied: wrapt~=1.12.1 in /usr/local/lib/python3.6/dist-packages (from tensorflow.gpu) (1.12.1)\n",
            "Requirement already satisfied: flatbuffers~=1.12.0 in /usr/local/lib/python3.6/dist-packages (from tensorflow.gpu) (1.12)\n",
            "Requirement already satisfied: google-pasta~=0.2 in /usr/local/lib/python3.6/dist-packages (from tensorflow.gpu) (0.2.0)\n",
            "Requirement already satisfied: opt-einsum~=3.3.0 in /usr/local/lib/python3.6/dist-packages (from tensorflow.gpu) (3.3.0)\n",
            "Requirement already satisfied: setuptools in /usr/local/lib/python3.6/dist-packages (from protobuf>=3.9.2->tensorflow.gpu) (53.0.0)\n",
            "Requirement already satisfied: google-auth<2,>=1.6.3 in /usr/local/lib/python3.6/dist-packages (from tensorboard~=2.4->tensorflow.gpu) (1.24.0)\n",
            "Requirement already satisfied: requests<3,>=2.21.0 in /usr/local/lib/python3.6/dist-packages (from tensorboard~=2.4->tensorflow.gpu) (2.23.0)\n",
            "Requirement already satisfied: google-auth-oauthlib<0.5,>=0.4.1 in /usr/local/lib/python3.6/dist-packages (from tensorboard~=2.4->tensorflow.gpu) (0.4.2)\n",
            "Requirement already satisfied: werkzeug>=0.11.15 in /usr/local/lib/python3.6/dist-packages (from tensorboard~=2.4->tensorflow.gpu) (1.0.1)\n",
            "Requirement already satisfied: tensorboard-plugin-wit>=1.6.0 in /usr/local/lib/python3.6/dist-packages (from tensorboard~=2.4->tensorflow.gpu) (1.8.0)\n",
            "Requirement already satisfied: markdown>=2.6.8 in /usr/local/lib/python3.6/dist-packages (from tensorboard~=2.4->tensorflow.gpu) (3.3.3)\n",
            "Requirement already satisfied: rsa<5,>=3.1.4; python_version >= \"3.6\" in /usr/local/lib/python3.6/dist-packages (from google-auth<2,>=1.6.3->tensorboard~=2.4->tensorflow.gpu) (4.7)\n",
            "Requirement already satisfied: cachetools<5.0,>=2.0.0 in /usr/local/lib/python3.6/dist-packages (from google-auth<2,>=1.6.3->tensorboard~=2.4->tensorflow.gpu) (4.2.1)\n",
            "Requirement already satisfied: pyasn1-modules>=0.2.1 in /usr/local/lib/python3.6/dist-packages (from google-auth<2,>=1.6.3->tensorboard~=2.4->tensorflow.gpu) (0.2.8)\n",
            "Requirement already satisfied: certifi>=2017.4.17 in /usr/local/lib/python3.6/dist-packages (from requests<3,>=2.21.0->tensorboard~=2.4->tensorflow.gpu) (2020.12.5)\n",
            "Requirement already satisfied: urllib3!=1.25.0,!=1.25.1,<1.26,>=1.21.1 in /usr/local/lib/python3.6/dist-packages (from requests<3,>=2.21.0->tensorboard~=2.4->tensorflow.gpu) (1.24.3)\n",
            "Requirement already satisfied: chardet<4,>=3.0.2 in /usr/local/lib/python3.6/dist-packages (from requests<3,>=2.21.0->tensorboard~=2.4->tensorflow.gpu) (3.0.4)\n",
            "Requirement already satisfied: idna<3,>=2.5 in /usr/local/lib/python3.6/dist-packages (from requests<3,>=2.21.0->tensorboard~=2.4->tensorflow.gpu) (2.10)\n",
            "Requirement already satisfied: requests-oauthlib>=0.7.0 in /usr/local/lib/python3.6/dist-packages (from google-auth-oauthlib<0.5,>=0.4.1->tensorboard~=2.4->tensorflow.gpu) (1.3.0)\n",
            "Requirement already satisfied: importlib-metadata; python_version < \"3.8\" in /usr/local/lib/python3.6/dist-packages (from markdown>=2.6.8->tensorboard~=2.4->tensorflow.gpu) (3.4.0)\n",
            "Requirement already satisfied: pyasn1>=0.1.3 in /usr/local/lib/python3.6/dist-packages (from rsa<5,>=3.1.4; python_version >= \"3.6\"->google-auth<2,>=1.6.3->tensorboard~=2.4->tensorflow.gpu) (0.4.8)\n",
            "Requirement already satisfied: oauthlib>=3.0.0 in /usr/local/lib/python3.6/dist-packages (from requests-oauthlib>=0.7.0->google-auth-oauthlib<0.5,>=0.4.1->tensorboard~=2.4->tensorflow.gpu) (3.1.0)\n",
            "Requirement already satisfied: zipp>=0.5 in /usr/local/lib/python3.6/dist-packages (from importlib-metadata; python_version < \"3.8\"->markdown>=2.6.8->tensorboard~=2.4->tensorflow.gpu) (3.4.0)\n",
            "Installing collected packages: tensorflow.gpu\n",
            "Successfully installed tensorflow.gpu\n"
          ],
          "name": "stdout"
        }
      ]
    },
    {
      "cell_type": "code",
      "metadata": {
        "id": "-1ebpF_apy3r"
      },
      "source": [
        "import pandas as pd\r\n",
        "import numpy as np\r\n",
        "import tensorflow as tf\r\n",
        "from tensorflow import keras\r\n",
        "import seaborn as sns\r\n",
        "from pylab import rcParams\r\n",
        "import matplotlib.pyplot as plt\r\n",
        "from matplotlib import rc\r\n",
        "from pandas.plotting import register_matplotlib_converters\r\n",
        "from google.colab import drive\r\n",
        "import plotly.graph_objects as go\r\n",
        "from sklearn.preprocessing import StandardScaler\r\n",
        "import keras\r\n",
        "import pickle"
      ],
      "execution_count": 70,
      "outputs": []
    },
    {
      "cell_type": "code",
      "metadata": {
        "id": "IOBcjHmDqZU4",
        "colab": {
          "base_uri": "https://localhost:8080/"
        },
        "outputId": "c2f005e6-f065-4e7a-ece7-92e9c359c795"
      },
      "source": [
        "# load dfset\r\n",
        "drive.mount('/drive')   #mount the drive to load \r\n",
        "\r\n",
        "df = pd.read_csv('/drive/Shareddrives/CSE 573: Team Project/Data Sets/Anomaly/Anomaly/EURUSD1.csv')\r\n",
        "df.columns =[\"date\",\"time\", \"open\", \"high\", \"low\", \"close\", \"volume\"]"
      ],
      "execution_count": 82,
      "outputs": [
        {
          "output_type": "stream",
          "text": [
            "Drive already mounted at /drive; to attempt to forcibly remount, call drive.mount(\"/drive\", force_remount=True).\n"
          ],
          "name": "stdout"
        }
      ]
    },
    {
      "cell_type": "code",
      "metadata": {
        "colab": {
          "base_uri": "https://localhost:8080/",
          "height": 198
        },
        "id": "MMRpQYGWhJ9n",
        "outputId": "8800b867-9686-4929-9db6-15530e710e02"
      },
      "source": [
        "df.head() # print the first 5 rows of df"
      ],
      "execution_count": 83,
      "outputs": [
        {
          "output_type": "execute_result",
          "data": {
            "text/html": [
              "<div>\n",
              "<style scoped>\n",
              "    .dataframe tbody tr th:only-of-type {\n",
              "        vertical-align: middle;\n",
              "    }\n",
              "\n",
              "    .dataframe tbody tr th {\n",
              "        vertical-align: top;\n",
              "    }\n",
              "\n",
              "    .dataframe thead th {\n",
              "        text-align: right;\n",
              "    }\n",
              "</style>\n",
              "<table border=\"1\" class=\"dataframe\">\n",
              "  <thead>\n",
              "    <tr style=\"text-align: right;\">\n",
              "      <th></th>\n",
              "      <th>date</th>\n",
              "      <th>time</th>\n",
              "      <th>open</th>\n",
              "      <th>high</th>\n",
              "      <th>low</th>\n",
              "      <th>close</th>\n",
              "      <th>volume</th>\n",
              "    </tr>\n",
              "  </thead>\n",
              "  <tbody>\n",
              "    <tr>\n",
              "      <th>0</th>\n",
              "      <td>2004.07.29</td>\n",
              "      <td>08:54</td>\n",
              "      <td>1.2027</td>\n",
              "      <td>1.2028</td>\n",
              "      <td>1.2021</td>\n",
              "      <td>1.2022</td>\n",
              "      <td>9</td>\n",
              "    </tr>\n",
              "    <tr>\n",
              "      <th>1</th>\n",
              "      <td>2004.07.29</td>\n",
              "      <td>08:55</td>\n",
              "      <td>1.2026</td>\n",
              "      <td>1.2029</td>\n",
              "      <td>1.2023</td>\n",
              "      <td>1.2027</td>\n",
              "      <td>9</td>\n",
              "    </tr>\n",
              "    <tr>\n",
              "      <th>2</th>\n",
              "      <td>2004.07.29</td>\n",
              "      <td>08:56</td>\n",
              "      <td>1.2024</td>\n",
              "      <td>1.2026</td>\n",
              "      <td>1.2021</td>\n",
              "      <td>1.2023</td>\n",
              "      <td>9</td>\n",
              "    </tr>\n",
              "    <tr>\n",
              "      <th>3</th>\n",
              "      <td>2004.07.29</td>\n",
              "      <td>08:57</td>\n",
              "      <td>1.2022</td>\n",
              "      <td>1.2026</td>\n",
              "      <td>1.2017</td>\n",
              "      <td>1.2023</td>\n",
              "      <td>12</td>\n",
              "    </tr>\n",
              "    <tr>\n",
              "      <th>4</th>\n",
              "      <td>2004.07.29</td>\n",
              "      <td>08:58</td>\n",
              "      <td>1.2022</td>\n",
              "      <td>1.2030</td>\n",
              "      <td>1.2018</td>\n",
              "      <td>1.2022</td>\n",
              "      <td>19</td>\n",
              "    </tr>\n",
              "  </tbody>\n",
              "</table>\n",
              "</div>"
            ],
            "text/plain": [
              "         date   time    open    high     low   close  volume\n",
              "0  2004.07.29  08:54  1.2027  1.2028  1.2021  1.2022       9\n",
              "1  2004.07.29  08:55  1.2026  1.2029  1.2023  1.2027       9\n",
              "2  2004.07.29  08:56  1.2024  1.2026  1.2021  1.2023       9\n",
              "3  2004.07.29  08:57  1.2022  1.2026  1.2017  1.2023      12\n",
              "4  2004.07.29  08:58  1.2022  1.2030  1.2018  1.2022      19"
            ]
          },
          "metadata": {
            "tags": []
          },
          "execution_count": 83
        }
      ]
    },
    {
      "cell_type": "code",
      "metadata": {
        "id": "yHY_PU9GsmNW",
        "colab": {
          "base_uri": "https://localhost:8080/"
        },
        "outputId": "becbfd0c-4630-4bf1-ae55-df8ac5adbf82"
      },
      "source": [
        "df.shape # number of rows and columns"
      ],
      "execution_count": 84,
      "outputs": [
        {
          "output_type": "execute_result",
          "data": {
            "text/plain": [
              "(6001885, 7)"
            ]
          },
          "metadata": {
            "tags": []
          },
          "execution_count": 84
        }
      ]
    },
    {
      "cell_type": "code",
      "metadata": {
        "id": "ELtUi2ywn2KK",
        "colab": {
          "base_uri": "https://localhost:8080/"
        },
        "outputId": "9ae12891-0fa0-4e9f-d394-a7aed0eaa5a9"
      },
      "source": [
        "# preprocess data\r\n",
        "\r\n",
        "#convert to date time format\r\n",
        "df['date_time'] = df['date'] + \" \" + df['time']\r\n",
        "df['date_time'] = pd.to_datetime(df['date_time'],format=\"%Y.%m.%d %H:%M\")\r\n",
        "print(df['date_time'].max())\r\n",
        "print(df['date_time'].min())"
      ],
      "execution_count": 85,
      "outputs": [
        {
          "output_type": "stream",
          "text": [
            "2021-01-28 20:34:00\n",
            "2004-07-29 08:54:00\n"
          ],
          "name": "stdout"
        }
      ]
    },
    {
      "cell_type": "code",
      "metadata": {
        "colab": {
          "base_uri": "https://localhost:8080/"
        },
        "id": "0XIdOQ04MkE5",
        "outputId": "a60fac17-5c35-4433-acd0-5745049561db"
      },
      "source": [
        "# split data into train and test\r\n",
        "df = df.loc[(df['date_time'] >= '2010-01-01') & (df['date_time'] <= '2015-01-01')]\r\n",
        "train_size = int(len(df) * 0.95)\r\n",
        "test_size = len(df) - train_size\r\n",
        "train, test = df.iloc[0:train_size], df.iloc[train_size:len(df)]\r\n",
        "\r\n",
        "print(train.shape, test.shape)"
      ],
      "execution_count": 87,
      "outputs": [
        {
          "output_type": "stream",
          "text": [
            "(1749766, 8) (92093, 8)\n"
          ],
          "name": "stdout"
        }
      ]
    },
    {
      "cell_type": "code",
      "metadata": {
        "colab": {
          "base_uri": "https://localhost:8080/"
        },
        "id": "OA1cgvsJNXmN",
        "outputId": "04326d08-0052-4f3c-bdca-0c70a3ca934c"
      },
      "source": [
        "from sklearn.preprocessing import StandardScaler\r\n",
        "scaler = StandardScaler()\r\n",
        "scaler = scaler.fit(train[['close']])\r\n",
        "train['close'] = scaler.transform(train[['close']])\r\n",
        "test['close'] = scaler.transform(test[['close']])"
      ],
      "execution_count": 88,
      "outputs": [
        {
          "output_type": "stream",
          "text": [
            "/usr/local/lib/python3.6/dist-packages/ipykernel_launcher.py:4: SettingWithCopyWarning:\n",
            "\n",
            "\n",
            "A value is trying to be set on a copy of a slice from a DataFrame.\n",
            "Try using .loc[row_indexer,col_indexer] = value instead\n",
            "\n",
            "See the caveats in the documentation: https://pandas.pydata.org/pandas-docs/stable/user_guide/indexing.html#returning-a-view-versus-a-copy\n",
            "\n",
            "/usr/local/lib/python3.6/dist-packages/ipykernel_launcher.py:5: SettingWithCopyWarning:\n",
            "\n",
            "\n",
            "A value is trying to be set on a copy of a slice from a DataFrame.\n",
            "Try using .loc[row_indexer,col_indexer] = value instead\n",
            "\n",
            "See the caveats in the documentation: https://pandas.pydata.org/pandas-docs/stable/user_guide/indexing.html#returning-a-view-versus-a-copy\n",
            "\n"
          ],
          "name": "stderr"
        }
      ]
    },
    {
      "cell_type": "code",
      "metadata": {
        "id": "_rC8Ky5jNo6f"
      },
      "source": [
        "def create_dataset(X, y, time_steps=1):\r\n",
        "    Xs, ys = [], []\r\n",
        "    for i in range(len(X) - time_steps):\r\n",
        "        v = X.iloc[i:(i + time_steps)].values\r\n",
        "        Xs.append(v)\r\n",
        "        ys.append(y.iloc[i + time_steps])\r\n",
        "    return np.array(Xs), np.array(ys)"
      ],
      "execution_count": 89,
      "outputs": []
    },
    {
      "cell_type": "code",
      "metadata": {
        "colab": {
          "base_uri": "https://localhost:8080/"
        },
        "id": "nIfaQDnqNq2i",
        "outputId": "84d227f2-5b06-47a9-ad24-d5f465801763"
      },
      "source": [
        "TIME_STEPS = 30\r\n",
        "# reshape to [samples, time_steps, n_features]\r\n",
        "X_train, y_train = create_dataset(\r\n",
        "  train[['close']],\r\n",
        "  train.close,\r\n",
        "  TIME_STEPS\r\n",
        ")\r\n",
        "X_test, y_test = create_dataset(\r\n",
        "  test[['close']],\r\n",
        "  test.close,\r\n",
        "  TIME_STEPS\r\n",
        ")\r\n",
        "print(X_train.shape)"
      ],
      "execution_count": 90,
      "outputs": [
        {
          "output_type": "stream",
          "text": [
            "(1749736, 30, 1)\n"
          ],
          "name": "stdout"
        }
      ]
    },
    {
      "cell_type": "code",
      "metadata": {
        "id": "jkTKyMjXL8X6"
      },
      "source": [
        "# Create model\r\n",
        "model = keras.Sequential()\r\n",
        "model.add(keras.layers.LSTM(\r\n",
        "    units=64,\r\n",
        "    input_shape=(X_train.shape[1], X_train.shape[2])\r\n",
        "))\r\n",
        "model.add(keras.layers.Dropout(rate=0.2))\r\n",
        "model.add(keras.layers.RepeatVector(n=X_train.shape[1]))\r\n",
        "model.add(keras.layers.LSTM(units=64, return_sequences=True))\r\n",
        "model.add(keras.layers.Dropout(rate=0.2))\r\n",
        "model.add(\r\n",
        "  keras.layers.TimeDistributed(\r\n",
        "    keras.layers.Dense(units=X_train.shape[2])\r\n",
        "  )\r\n",
        ")\r\n",
        "model.compile(loss='mae', optimizer='adam')"
      ],
      "execution_count": 91,
      "outputs": []
    },
    {
      "cell_type": "code",
      "metadata": {
        "colab": {
          "base_uri": "https://localhost:8080/"
        },
        "id": "kK4meh4ROmGZ",
        "outputId": "f30238c5-409b-4c64-e5f8-44180ab88b52"
      },
      "source": [
        "# Train model\r\n",
        "history = model.fit(\r\n",
        "    X_train, y_train,\r\n",
        "    epochs=10,\r\n",
        "    batch_size=32,\r\n",
        "    validation_split=0.1,\r\n",
        "    shuffle=False\r\n",
        ")"
      ],
      "execution_count": 92,
      "outputs": [
        {
          "output_type": "stream",
          "text": [
            "Epoch 1/10\n",
            "49212/49212 [==============================] - 1187s 24ms/step - loss: 0.0811 - val_loss: 0.6385\n",
            "Epoch 2/10\n",
            "49212/49212 [==============================] - 1272s 26ms/step - loss: 0.0849 - val_loss: 0.6178\n",
            "Epoch 3/10\n",
            "49212/49212 [==============================] - 1290s 26ms/step - loss: 0.0701 - val_loss: 0.4954\n",
            "Epoch 4/10\n",
            "49212/49212 [==============================] - 1259s 26ms/step - loss: 0.0679 - val_loss: 0.4416\n",
            "Epoch 5/10\n",
            "49212/49212 [==============================] - 1262s 26ms/step - loss: 0.0666 - val_loss: 0.4464\n",
            "Epoch 6/10\n",
            "49212/49212 [==============================] - 1261s 26ms/step - loss: 0.0647 - val_loss: 0.4894\n",
            "Epoch 7/10\n",
            "49212/49212 [==============================] - 1280s 26ms/step - loss: 0.0684 - val_loss: 0.4784\n",
            "Epoch 8/10\n",
            "49212/49212 [==============================] - 1268s 26ms/step - loss: 0.0692 - val_loss: 0.5298\n",
            "Epoch 9/10\n",
            "49212/49212 [==============================] - 1278s 26ms/step - loss: 0.0707 - val_loss: 0.4556\n",
            "Epoch 10/10\n",
            "49212/49212 [==============================] - 1288s 26ms/step - loss: 0.0739 - val_loss: 0.6562\n"
          ],
          "name": "stdout"
        }
      ]
    },
    {
      "cell_type": "code",
      "metadata": {
        "id": "Cc8-eCf0isXf"
      },
      "source": [
        "# Finding Anomalies\r\n",
        "# MAE = Mean Absolute Error\r\n",
        "X_train_pred = model.predict(X_train)\r\n",
        "train_mae_loss = np.mean(np.abs(X_train_pred - X_train), axis=1)"
      ],
      "execution_count": 93,
      "outputs": []
    },
    {
      "cell_type": "code",
      "metadata": {
        "colab": {
          "base_uri": "https://localhost:8080/"
        },
        "id": "Tn5cazhcoKf5",
        "outputId": "38c5e899-2e34-4e4d-d459-b87cff30febf"
      },
      "source": [
        "print(train_mae_loss)"
      ],
      "execution_count": 94,
      "outputs": [
        {
          "output_type": "stream",
          "text": [
            "[[0.74213432]\n",
            " [0.78101745]\n",
            " [0.7590526 ]\n",
            " ...\n",
            " [2.13572381]\n",
            " [2.13605423]\n",
            " [2.13622957]]\n"
          ],
          "name": "stdout"
        }
      ]
    },
    {
      "cell_type": "code",
      "metadata": {
        "colab": {
          "base_uri": "https://localhost:8080/",
          "height": 428
        },
        "id": "6rATL-_QofbF",
        "outputId": "2488c784-9f59-42cd-8553-5d0a69768a74"
      },
      "source": [
        "fig, ax = plt.subplots(figsize =(10, 7)) \r\n",
        "ax.hist(train_mae_loss, bins = [0, 0.2, 0.4, 0.6, 0.8, 1.0, 1.2, 1.4, 1.6, 1.8, 2.0]) \r\n",
        "  \r\n",
        "# Show plot \r\n",
        "plt.show() "
      ],
      "execution_count": 95,
      "outputs": [
        {
          "output_type": "display_data",
          "data": {
            "image/png": "[encoded data removed]",
            "text/plain": [
              "<Figure size 720x504 with 1 Axes>"
            ]
          },
          "metadata": {
            "tags": [],
            "needs_background": "light"
          }
        }
      ]
    },
    {
      "cell_type": "code",
      "metadata": {
        "id": "DfqAiORIpmid"
      },
      "source": [
        "# Test model\r\n",
        "THRESHOLD = 1.95\r\n",
        "X_test_pred = model.predict(X_test)\r\n",
        "test_mae_loss = np.mean(np.abs(X_test_pred - X_test), axis=1)"
      ],
      "execution_count": 104,
      "outputs": []
    },
    {
      "cell_type": "code",
      "metadata": {
        "id": "1aJf8Z8rp4mS"
      },
      "source": [
        "# DataFrame for loss and anomalies\r\n",
        "test_score_df = pd.DataFrame(index=test[TIME_STEPS:].index)\r\n",
        "test_score_df['loss'] = test_mae_loss\r\n",
        "test_score_df['threshold'] = THRESHOLD\r\n",
        "test_score_df['anomaly'] = test_score_df.loss > test_score_df.threshold\r\n",
        "test_score_df['close'] = test[TIME_STEPS:].close"
      ],
      "execution_count": 105,
      "outputs": []
    },
    {
      "cell_type": "code",
      "metadata": {
        "colab": {
          "base_uri": "https://localhost:8080/"
        },
        "id": "634T3_FyqVfA",
        "outputId": "3176fdd5-8465-4356-aca7-dc3d67d458b6"
      },
      "source": [
        "# print(test_score_df['loss'])\r\n",
        "print(test_score_df.shape)\r\n",
        "# print(test_score_df.head())"
      ],
      "execution_count": 106,
      "outputs": [
        {
          "output_type": "stream",
          "text": [
            "(92063, 4)\n"
          ],
          "name": "stdout"
        }
      ]
    },
    {
      "cell_type": "code",
      "metadata": {
        "colab": {
          "base_uri": "https://localhost:8080/",
          "height": 333
        },
        "id": "KtmI6TP5re3H",
        "outputId": "c9ce922c-0430-4df8-a4b7-d457b2f99d6e"
      },
      "source": [
        "#plt.figure(figsize=(100,50))\r\n",
        "plt.plot(test[TIME_STEPS:]['date_time'],test_score_df['loss'])\r\n",
        "plt.title('Loss vs. Threshold')\r\n",
        "plt.xlabel('Date Time')\r\n",
        "plt.ylabel('Loss')\r\n",
        "plt.xticks(rotation=45) # space out labels\r\n",
        "plt.show()"
      ],
      "execution_count": 107,
      "outputs": [
        {
          "output_type": "display_data",
          "data": {
            "image/png": "[encoded data removed]",
            "text/plain": [
              "<Figure size 432x288 with 1 Axes>"
            ]
          },
          "metadata": {
            "tags": [],
            "needs_background": "light"
          }
        }
      ]
    },
    {
      "cell_type": "code",
      "metadata": {
        "colab": {
          "base_uri": "https://localhost:8080/"
        },
        "id": "4cdT_LOAqOfw",
        "outputId": "b5baf93c-da0b-4be8-8769-f863c83fc459"
      },
      "source": [
        "anomalies = test_score_df[test_score_df.anomaly == True]\r\n",
        "print(anomalies)"
      ],
      "execution_count": 108,
      "outputs": [
        {
          "output_type": "stream",
          "text": [
            "             loss  threshold  anomaly     close\n",
            "3652789  2.138009       1.95     True -1.349163\n",
            "3652790  2.137541       1.95     True -1.344058\n",
            "3652791  2.137011       1.95     True -1.345152\n",
            "3652792  2.136439       1.95     True -1.345699\n",
            "3652793  2.135997       1.95     True -1.343876\n",
            "...           ...        ...      ...       ...\n",
            "3744847  2.929100       1.95     True -2.302312\n",
            "3744848  2.929560       1.95     True -2.303953\n",
            "3744849  2.929134       1.95     True -2.304135\n",
            "3744850  2.929000       1.95     True -2.303953\n",
            "3744851  2.929055       1.95     True -2.304135\n",
            "\n",
            "[85936 rows x 4 columns]\n"
          ],
          "name": "stdout"
        }
      ]
    },
    {
      "cell_type": "code",
      "metadata": {
        "colab": {
          "base_uri": "https://localhost:8080/",
          "height": 333
        },
        "id": "gmSANHgNqTA2",
        "outputId": "a076730e-b133-4857-f6ec-c1eb7e58447e"
      },
      "source": [
        "#plt.figure(figsize=(100,50))\r\n",
        "plt.plot(test[TIME_STEPS:]['date_time'],test_score_df['close'])\r\n",
        "plt.plot(test[TIME_STEPS:][test_score_df['anomaly'] == True]['date_time'],test_score_df[test_score_df['anomaly'] == True]['close'])\r\n",
        "plt.title('Anomalies')\r\n",
        "plt.xlabel('Date')\r\n",
        "plt.ylabel('Anomalies')\r\n",
        "plt.xticks(rotation=45) # space out labels\r\n",
        "plt.show()"
      ],
      "execution_count": 109,
      "outputs": [
        {
          "output_type": "display_data",
          "data": {
            "image/png": "[encoded data removed]",
            "text/plain": [
              "<Figure size 432x288 with 1 Axes>"
            ]
          },
          "metadata": {
            "tags": [],
            "needs_background": "light"
          }
        }
      ]
    },
    {
      "cell_type": "code",
      "metadata": {
        "colab": {
          "base_uri": "https://localhost:8080/"
        },
        "id": "a2ZU6xSO3TBE",
        "outputId": "c74de873-53a7-4577-ec42-8240047ff835"
      },
      "source": [
        "# Save model\r\n",
        "model.save('')"
      ],
      "execution_count": 110,
      "outputs": [
        {
          "output_type": "stream",
          "text": [
            "WARNING:absl:Found untraced functions such as lstm_cell_2_layer_call_fn, lstm_cell_2_layer_call_and_return_conditional_losses, lstm_cell_3_layer_call_fn, lstm_cell_3_layer_call_and_return_conditional_losses, lstm_cell_2_layer_call_fn while saving (showing 5 of 10). These functions will not be directly callable after loading.\n",
            "WARNING:absl:Found untraced functions such as lstm_cell_2_layer_call_fn, lstm_cell_2_layer_call_and_return_conditional_losses, lstm_cell_3_layer_call_fn, lstm_cell_3_layer_call_and_return_conditional_losses, lstm_cell_2_layer_call_fn while saving (showing 5 of 10). These functions will not be directly callable after loading.\n"
          ],
          "name": "stderr"
        },
        {
          "output_type": "stream",
          "text": [
            "INFO:tensorflow:Assets written to: assets\n"
          ],
          "name": "stdout"
        },
        {
          "output_type": "stream",
          "text": [
            "INFO:tensorflow:Assets written to: assets\n"
          ],
          "name": "stderr"
        }
      ]
    }
  ]
}